{
 "cells": [
  {
   "cell_type": "markdown",
   "metadata": {},
   "source": [
    "# Pandora: a new stereo matching framework\n",
    "![logo-cnes-triangulaire.jpg](attachment:logo-cnes-triangulaire.jpg)\n",
    "*Cournet, M., Sarrazin, E., Dumas, L., Michel, J., Guinet, J., Youssefi, D., Defonte, V., Fardet, Q., 2020. Ground-truth generation and disparity estimation for optical satellite imagery. ISPRS - International Archives of the Photogrammetry, Remote Sensing and Spatial Information Sciences.*"
   ]
  },
  {
   "cell_type": "markdown",
   "metadata": {},
   "source": [
    "# Analysis demo"
   ]
  },
  {
   "cell_type": "markdown",
   "metadata": {},
   "source": [
    "Imports and external functions"
   ]
  },
  {
   "cell_type": "code",
   "execution_count": null,
   "metadata": {},
   "outputs": [],
   "source": [
    "import os\n",
    "import matplotlib.pyplot as plt\n",
    "import numpy as np\n",
    "import rasterio\n",
    "from pathlib import Path\n",
    "from IPython.display import Image\n",
    "import copy\n",
    "import xarray as xr"
   ]
  },
  {
   "cell_type": "code",
   "execution_count": null,
   "metadata": {},
   "outputs": [],
   "source": [
    "import bokeh.plotting as bpl\n",
    "from bokeh.plotting import figure\n",
    "from bokeh.layouts import row, column\n",
    "from bokeh.models import ColorBar, BasicTicker, LinearColorMapper, Legend\n",
    "from ipywidgets import interact, Layout\n",
    "from bokeh.palettes import RdYlBu\n",
    "from bokeh.io import push_notebook, show, output_notebook\n",
    "import ipyvolume as ipv\n",
    "from ipyvolume import widgets"
   ]
  },
  {
   "cell_type": "markdown",
   "metadata": {},
   "source": [
    "Imports of custom functions for visualization"
   ]
  },
  {
   "cell_type": "code",
   "execution_count": null,
   "metadata": {},
   "outputs": [],
   "source": [
    "from snippets.utils import *"
   ]
  },
  {
   "cell_type": "markdown",
   "metadata": {},
   "source": [
    "Imports of pandora "
   ]
  },
  {
   "cell_type": "code",
   "execution_count": null,
   "metadata": {},
   "outputs": [],
   "source": [
    "# Load pandora imports\n",
    "import pandora\n",
    "from pandora.img_tools import read_img\n",
    "from pandora.check_json import check_pipeline_section, concat_conf\n",
    "from pandora.state_machine import PandoraMachine\n",
    "from pandora import import_plugin, check_conf"
   ]
  },
  {
   "cell_type": "markdown",
   "metadata": {},
   "source": [
    "(Optional) If Pandora plugins are to be used, import them"
   ]
  },
  {
   "cell_type": "markdown",
   "metadata": {},
   "source": [
    "Available Pandora Plugins include :\n",
    "- MC-CNN Matching cost computation\n",
    "- SGM Optimization"
   ]
  },
  {
   "cell_type": "code",
   "execution_count": null,
   "metadata": {},
   "outputs": [],
   "source": [
    "# Load plugins\n",
    "import_plugin()"
   ]
  },
  {
   "cell_type": "markdown",
   "metadata": {},
   "source": [
    "Provide output directory to write results"
   ]
  },
  {
   "cell_type": "code",
   "execution_count": null,
   "metadata": {},
   "outputs": [],
   "source": [
    "output_dir = os.path.join(os.getcwd(),\"output\")\n",
    "# If necessary, create output dir\n",
    "Path(output_dir).mkdir(exist_ok=True,parents=True)"
   ]
  },
  {
   "cell_type": "markdown",
   "metadata": {},
   "source": [
    "Provide input data"
   ]
  },
  {
   "cell_type": "code",
   "execution_count": null,
   "metadata": {},
   "outputs": [],
   "source": [
    "# Paths to left and right images\n",
    "img_left_path = \"data/Cones_LEFT.tif\"\n",
    "img_right_path = \"data/Cones_RIGHT.tif\"\n",
    "# Paths to masks (None if not provided)\n",
    "left_mask_path = None\n",
    "right_mask_path = None"
   ]
  },
  {
   "cell_type": "markdown",
   "metadata": {},
   "source": [
    "Provide no data configuration"
   ]
  },
  {
   "cell_type": "code",
   "execution_count": null,
   "metadata": {},
   "outputs": [],
   "source": [
    "image_cfg = {'image': {'no_data': 1, 'nodata1': np.nan, 'nodata2': np.nan, 'valid_pixels': 0}}"
   ]
  },
  {
   "cell_type": "markdown",
   "metadata": {},
   "source": [
    "Read input data and convert to dataset"
   ]
  },
  {
   "cell_type": "code",
   "execution_count": null,
   "metadata": {},
   "outputs": [],
   "source": [
    "img_left = read_img(img_left_path, no_data=image_cfg['image']['nodata1'],\n",
    "                       mask=left_mask_path)\n",
    "img_right = read_img(img_right_path, no_data=image_cfg['image']['nodata2'],\n",
    "                       mask=right_mask_path)"
   ]
  },
  {
   "cell_type": "markdown",
   "metadata": {},
   "source": [
    "#### Visualize input data"
   ]
  },
  {
   "cell_type": "code",
   "execution_count": null,
   "metadata": {},
   "outputs": [],
   "source": [
    "show_input_images(img_left, img_right)"
   ]
  },
  {
   "cell_type": "markdown",
   "metadata": {},
   "source": [
    "Load ground truth if available"
   ]
  },
  {
   "cell_type": "code",
   "execution_count": null,
   "metadata": {},
   "outputs": [],
   "source": [
    "# Read image of ground_thruth\n",
    "ground_truth = read_img(\"data/Cones_LEFT_GT.tif\", np.inf, mask=\"data/Occlusion_LEFT.png\")\n",
    "\n",
    "# Convert disparity map to Pandora's convention\n",
    "ground_truth[\"disparity_map\"] = xr.DataArray(np.copy(ground_truth.im),dims=['row', 'col'])\n",
    "ground_truth[\"disparity_map\"].values = - ground_truth[\"disparity_map\"].values\n",
    "ground_truth[\"validity_mask\"] = xr.DataArray(np.copy(ground_truth.msk),dims=['row', 'col'])\n",
    "ground_truth[\"validity_mask\"].values = np.zeros(ground_truth[\"msk\"].values.shape, dtype = int)\n",
    "inv_idx = np.where(ground_truth[\"msk\"].values == 0)\n",
    "ground_truth[\"validity_mask\"].values[inv_idx] = pandora.constants.PANDORA_MSK_PIXEL_OCCLUSION\n"
   ]
  },
  {
   "cell_type": "markdown",
   "metadata": {},
   "source": [
    "#### Visualize ground truth"
   ]
  },
  {
   "cell_type": "markdown",
   "metadata": {},
   "source": [
    "The different types of masks can be selected for visualization"
   ]
  },
  {
   "cell_type": "code",
   "execution_count": null,
   "metadata": {},
   "outputs": [],
   "source": [
    "plot_disparity(ground_truth)"
   ]
  },
  {
   "cell_type": "markdown",
   "metadata": {},
   "source": [
    "#### Run Pandora"
   ]
  },
  {
   "cell_type": "markdown",
   "metadata": {},
   "source": [
    "Define 2 pipelines"
   ]
  },
  {
   "cell_type": "code",
   "execution_count": null,
   "metadata": {},
   "outputs": [],
   "source": [
    "user_pipeline_cfg_census_sgm = {\n",
    "                     'pipeline': { \n",
    "                         'right_disp_map':{'method': 'accurate'},\n",
    "                         'matching_cost': {'matching_cost_method': 'census', 'window_size': 5, 'subpix': 1},\n",
    "                         'optimization' : {'optimization_method': 'sgm'},\n",
    "                         'disparity': {'disparity_method':'wta', \"invalid_disparity\": \"NaN\"},\n",
    "                         'filter': {'filter_method': 'median'},\n",
    "                         'refinement': {'refinement_method': 'vfit'},\n",
    "                         'validation': {'validation_method': 'cross_checking'},\n",
    "                     }\n",
    "                     }"
   ]
  },
  {
   "cell_type": "code",
   "execution_count": null,
   "metadata": {},
   "outputs": [],
   "source": [
    "user_pipeline_cfg_zncc = {\n",
    "                     'pipeline': { \n",
    "                         'right_disp_map':{'method': 'accurate'},\n",
    "                         'matching_cost': {'matching_cost_method': 'zncc', 'window_size': 5, 'subpix': 1},\n",
    "                         'disparity': {'disparity_method':'wta', \"invalid_disparity\": \"NaN\"},\n",
    "                         'refinement': {'refinement_method': 'vfit'},\n",
    "                         'validation': {'validation_method': 'cross_checking'},\n",
    "                     }\n",
    "                     }"
   ]
  },
  {
   "cell_type": "markdown",
   "metadata": {},
   "source": [
    "Instantiate and run the machine with the first configuration"
   ]
  },
  {
   "cell_type": "code",
   "execution_count": null,
   "metadata": {},
   "outputs": [],
   "source": [
    "pandora_machine = PandoraMachine()"
   ]
  },
  {
   "cell_type": "code",
   "execution_count": null,
   "metadata": {},
   "outputs": [],
   "source": [
    "cfg_census_sgm = check_pipeline_section(user_pipeline_cfg_census_sgm, pandora_machine)['pipeline']"
   ]
  },
  {
   "cell_type": "code",
   "execution_count": null,
   "metadata": {},
   "outputs": [],
   "source": [
    "disp_min = -60\n",
    "disp_max = 0"
   ]
  },
  {
   "cell_type": "code",
   "execution_count": null,
   "metadata": {},
   "outputs": [],
   "source": [
    "pandora_machine.run_prepare(cfg_census_sgm, img_left, img_right, disp_min, disp_max)"
   ]
  },
  {
   "cell_type": "code",
   "execution_count": null,
   "metadata": {},
   "outputs": [],
   "source": [
    "pandora_machine.run('matching_cost', cfg_census_sgm)\n",
    "left_cv_census = copy.deepcopy(pandora_machine.left_cv)\n",
    "right_cv_census = copy.deepcopy(pandora_machine.right_cv)\n",
    "    \n",
    "pandora_machine.run('optimization', cfg_census_sgm)\n",
    "left_cv_census_sgm = copy.deepcopy(pandora_machine.left_cv)\n",
    "right_cv_census_sgm = copy.deepcopy(pandora_machine.right_cv)\n",
    "    \n",
    "pandora_machine.run('disparity', cfg_census_sgm)\n",
    "left_disparity_map_census_sgm = copy.deepcopy(pandora_machine.left_disparity)\n",
    "right_disparity_map_census_sgm = copy.deepcopy(pandora_machine.right_disparity)\n",
    "\n",
    "pandora_machine.run('refinement', cfg_census_sgm)\n",
    "left_disp_map_refined_census_sgm = copy.deepcopy(pandora_machine.left_disparity)\n",
    "right_disp_map_refined_census_sgm = copy.deepcopy(pandora_machine.right_disparity)\n",
    "    \n",
    "pandora_machine.run('filter', cfg_census_sgm)\n",
    "left_disp_map_filtered_census_sgm = copy.deepcopy(pandora_machine.left_disparity)\n",
    "right_disp_map_filtered_census_sgm = copy.deepcopy(pandora_machine.right_disparity)\n",
    "\n",
    "pandora_machine.run('validation', cfg_census_sgm)\n",
    "left_disp_map_validated_census_sgm = copy.deepcopy(pandora_machine.left_disparity)\n",
    "right_disp_map_validated_census_sgm = copy.deepcopy(pandora_machine.right_disparity)"
   ]
  },
  {
   "cell_type": "markdown",
   "metadata": {},
   "source": [
    "Instantiate and run the machine with the second configuration"
   ]
  },
  {
   "cell_type": "code",
   "execution_count": null,
   "metadata": {},
   "outputs": [],
   "source": [
    "pandora_machine = PandoraMachine()"
   ]
  },
  {
   "cell_type": "code",
   "execution_count": null,
   "metadata": {},
   "outputs": [],
   "source": [
    "cfg_zncc = check_pipeline_section(user_pipeline_cfg_zncc, pandora_machine)['pipeline']"
   ]
  },
  {
   "cell_type": "code",
   "execution_count": null,
   "metadata": {},
   "outputs": [],
   "source": [
    "disp_min = -60\n",
    "disp_max = 0"
   ]
  },
  {
   "cell_type": "code",
   "execution_count": null,
   "metadata": {},
   "outputs": [],
   "source": [
    "pandora_machine.run_prepare(cfg_zncc, img_left, img_right, disp_min, disp_max)"
   ]
  },
  {
   "cell_type": "code",
   "execution_count": null,
   "metadata": {},
   "outputs": [],
   "source": [
    "pandora_machine.run('matching_cost', cfg_zncc)\n",
    "left_cv_zncc = copy.deepcopy(pandora_machine.left_cv)\n",
    "right_cv_zncc = copy.deepcopy(pandora_machine.right_cv)\n",
    "  \n",
    "pandora_machine.run('disparity', cfg_zncc)\n",
    "left_disparity_map_zncc = copy.deepcopy(pandora_machine.left_disparity)\n",
    "right_disparity_map_zncc = copy.deepcopy(pandora_machine.right_disparity)\n",
    "\n",
    "pandora_machine.run('refinement', cfg_zncc)\n",
    "left_disp_map_refined_zncc = copy.deepcopy(pandora_machine.left_disparity)\n",
    "right_disp_map_refined_zncc = copy.deepcopy(pandora_machine.right_disparity)\n",
    "\n",
    "pandora_machine.run('validation', cfg_zncc)\n",
    "left_disp_map_validated_zncc = copy.deepcopy(pandora_machine.left_disparity)\n",
    "right_disp_map_validated_zncc = copy.deepcopy(pandora_machine.right_disparity)"
   ]
  },
  {
   "cell_type": "markdown",
   "metadata": {},
   "source": [
    "## Analyze results"
   ]
  },
  {
   "cell_type": "markdown",
   "metadata": {},
   "source": [
    "#### Visualize output disparity for both pipelines"
   ]
  },
  {
   "cell_type": "code",
   "execution_count": null,
   "metadata": {},
   "outputs": [],
   "source": [
    "plot_disparity(left_disp_map_validated_census_sgm)"
   ]
  },
  {
   "cell_type": "code",
   "execution_count": null,
   "metadata": {},
   "outputs": [],
   "source": [
    "plot_disparity(left_disp_map_validated_zncc)"
   ]
  },
  {
   "cell_type": "markdown",
   "metadata": {},
   "source": [
    "#### Visualize and compare the different cost volumes"
   ]
  },
  {
   "cell_type": "markdown",
   "metadata": {},
   "source": [
    "Plot 1 cost volume"
   ]
  },
  {
   "cell_type": "code",
   "execution_count": null,
   "metadata": {},
   "outputs": [],
   "source": [
    "plot_1_cost_volume(left_cv_census_sgm, left_disparity_map_census_sgm, \"Cost volume with Census matching cost and SGM optimization step\")"
   ]
  },
  {
   "cell_type": "markdown",
   "metadata": {},
   "source": [
    "Plot 2 cost volumes"
   ]
  },
  {
   "cell_type": "code",
   "execution_count": null,
   "metadata": {},
   "outputs": [],
   "source": [
    "cv_zncc = get_3D_cost_volume(left_cv_zncc, left_disparity_map_zncc)\n",
    "cv_census_sgm = get_3D_cost_volume(left_cv_census_sgm, left_disparity_map_census_sgm)"
   ]
  },
  {
   "cell_type": "code",
   "execution_count": null,
   "metadata": {},
   "outputs": [],
   "source": [
    "out = widgets.Output()\n",
    "widgets.HBox([cv_zncc, cv_census_sgm], layout=Layout(width='880px', height='550px'))"
   ]
  },
  {
   "cell_type": "markdown",
   "metadata": {},
   "source": [
    "#### Compare the disparity maps after the refinement step of the two pipelines"
   ]
  },
  {
   "cell_type": "code",
   "execution_count": null,
   "metadata": {},
   "outputs": [],
   "source": [
    "compare_2_disparities(left_disp_map_refined_census_sgm, \"Disparity map Census SGM\", left_disp_map_refined_zncc, \"Disparity map Zncc\")"
   ]
  },
  {
   "cell_type": "markdown",
   "metadata": {},
   "source": [
    "#### Compare the output disparity map of the two pipelines"
   ]
  },
  {
   "cell_type": "markdown",
   "metadata": {},
   "source": [
    "The invalid masks can be hidden if the legend is clicked"
   ]
  },
  {
   "cell_type": "code",
   "execution_count": null,
   "metadata": {},
   "outputs": [],
   "source": [
    "compare_2_disparities( left_disp_map_validated_zncc, \"Disparity map ZNCC\", left_disp_map_validated_census_sgm, \"Disparity map Census SGM\")"
   ]
  },
  {
   "cell_type": "markdown",
   "metadata": {},
   "source": [
    "#### Compare the output disparity map with the ground truth for the zncc pipeline"
   ]
  },
  {
   "cell_type": "code",
   "execution_count": null,
   "metadata": {},
   "outputs": [],
   "source": [
    "compare_2_disparities(ground_truth, \"Ground truth\", left_disp_map_validated_zncc, \"Disparity map ZNCC\")"
   ]
  },
  {
   "cell_type": "markdown",
   "metadata": {},
   "source": [
    "#### Plot error and statistics with variable error threshold  for the zncc pipeline"
   ]
  },
  {
   "cell_type": "code",
   "execution_count": null,
   "metadata": {},
   "outputs": [],
   "source": [
    "error_plot(left_disp_map_validated_zncc, ground_truth, \"Error Zncc\")"
   ]
  },
  {
   "cell_type": "markdown",
   "metadata": {},
   "source": [
    "#### Compare the disparity map with the error at a given threshold for both pipelines"
   ]
  },
  {
   "cell_type": "code",
   "execution_count": null,
   "metadata": {},
   "outputs": [],
   "source": [
    "error_census_sgm = get_error(left_disp_map_validated_census_sgm, ground_truth, threshold = 1)"
   ]
  },
  {
   "cell_type": "code",
   "execution_count": null,
   "metadata": {},
   "outputs": [],
   "source": [
    "compare_disparity_and_error(left_disp_map_validated_census_sgm, \"Disparity map Census SGM\", error_census_sgm, \"Error with threshold 1\",)"
   ]
  },
  {
   "cell_type": "code",
   "execution_count": null,
   "metadata": {},
   "outputs": [],
   "source": [
    "error_zncc = get_error(left_disp_map_validated_zncc, ground_truth, threshold = 1)"
   ]
  },
  {
   "cell_type": "code",
   "execution_count": null,
   "metadata": {},
   "outputs": [],
   "source": [
    "compare_disparity_and_error(left_disp_map_validated_zncc, \"Disparity map Zncc\", error_zncc, \"Error with threshold 1\",)"
   ]
  },
  {
   "cell_type": "markdown",
   "metadata": {},
   "source": [
    "#### See the percentage of improvement or degradation on the error of Census-SGM in respect to ZNCC"
   ]
  },
  {
   "cell_type": "markdown",
   "metadata": {},
   "source": [
    "Negative percentages (blue points) mean an error reduction in respect to the reference error.\n"
   ]
  },
  {
   "cell_type": "code",
   "execution_count": null,
   "metadata": {},
   "outputs": [],
   "source": [
    "compare_2_error_maps(reference_error=error_zncc, second_error=error_census_sgm)"
   ]
  },
  {
   "cell_type": "markdown",
   "metadata": {},
   "source": [
    "#### Compare disparity maps with the ground truth and error for the ZNCC pipeline"
   ]
  },
  {
   "cell_type": "code",
   "execution_count": null,
   "metadata": {},
   "outputs": [],
   "source": [
    "compare_3_disparities_and_error(left_disparity_map_zncc, \"Disparity map Zncc after disparity step\", left_disp_map_validated_zncc, \"Disparity map Zncc with refinement and cross validation\", ground_truth, \"Ground truth\", error_zncc, \"Error with threshold 1\",)"
   ]
  },
  {
   "cell_type": "code",
   "execution_count": null,
   "metadata": {},
   "outputs": [],
   "source": []
  }
 ],
 "metadata": {
  "kernelspec": {
   "display_name": "Python 3",
   "language": "python",
   "name": "python3"
  },
  "language_info": {
   "codemirror_mode": {
    "name": "ipython",
    "version": 3
   },
   "file_extension": ".py",
   "mimetype": "text/x-python",
   "name": "python",
   "nbconvert_exporter": "python",
   "pygments_lexer": "ipython3",
   "version": "3.6.9"
  }
 },
 "nbformat": 4,
 "nbformat_minor": 4
}
